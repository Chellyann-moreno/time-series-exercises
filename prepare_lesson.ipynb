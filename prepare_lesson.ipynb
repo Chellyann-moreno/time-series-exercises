{
 "cells": [
  {
   "cell_type": "markdown",
   "id": "00a6e7ff",
   "metadata": {},
   "source": [
    "# Preparing Time Series Data"
   ]
  },
  {
   "cell_type": "markdown",
   "id": "9846e041",
   "metadata": {},
   "source": [
    "What is it?\n",
    "- how we prepare the data specifically for time series data\n",
    "- like most preparation processes, but with the addition of dates!\n",
    "\n",
    "Why do we care?\n",
    "- we want to ensure that pandas is properly aware of dates, so we can investigate trends over time"
   ]
  },
  {
   "cell_type": "code",
   "execution_count": 2,
   "id": "025d1adc",
   "metadata": {},
   "outputs": [],
   "source": [
    "import pandas as pd\n",
    "import numpy as np\n",
    "\n",
    "import matplotlib.pyplot as plt\n",
    "import seaborn as sns\n"
   ]
  },
  {
   "cell_type": "markdown",
   "id": "4bc76495",
   "metadata": {},
   "source": [
    "Scenario: Working with store data to predict the sale_amount"
   ]
  },
  {
   "cell_type": "markdown",
   "id": "d082f330",
   "metadata": {},
   "source": [
    "## Acquire"
   ]
  },
  {
   "cell_type": "code",
   "execution_count": 43,
   "id": "1512c064",
   "metadata": {},
   "outputs": [],
   "source": [
    "#load my csv\n",
    "df = pd.read_csv('ts_superstore.csv', index_col=0)"
   ]
  },
  {
   "cell_type": "code",
   "execution_count": 44,
   "id": "f9e90339-edd8-4467-8775-86cbb2f3c729",
   "metadata": {},
   "outputs": [
    {
     "data": {
      "text/html": [
       "<div>\n",
       "<style scoped>\n",
       "    .dataframe tbody tr th:only-of-type {\n",
       "        vertical-align: middle;\n",
       "    }\n",
       "\n",
       "    .dataframe tbody tr th {\n",
       "        vertical-align: top;\n",
       "    }\n",
       "\n",
       "    .dataframe thead th {\n",
       "        text-align: right;\n",
       "    }\n",
       "</style>\n",
       "<table border=\"1\" class=\"dataframe\">\n",
       "  <thead>\n",
       "    <tr style=\"text-align: right;\">\n",
       "      <th></th>\n",
       "      <th>item</th>\n",
       "      <th>sale_amount</th>\n",
       "      <th>sale_date</th>\n",
       "      <th>sale_id</th>\n",
       "      <th>store</th>\n",
       "      <th>item_brand</th>\n",
       "      <th>item_id</th>\n",
       "      <th>item_name</th>\n",
       "      <th>item_price</th>\n",
       "      <th>item_upc12</th>\n",
       "      <th>item_upc14</th>\n",
       "      <th>store_address</th>\n",
       "      <th>store_city</th>\n",
       "      <th>store_id</th>\n",
       "      <th>store_state</th>\n",
       "      <th>store_zipcode</th>\n",
       "    </tr>\n",
       "  </thead>\n",
       "  <tbody>\n",
       "    <tr>\n",
       "      <th>0</th>\n",
       "      <td>1</td>\n",
       "      <td>13.0</td>\n",
       "      <td>Tue, 01 Jan 2013 00:00:00 GMT</td>\n",
       "      <td>1</td>\n",
       "      <td>1</td>\n",
       "      <td>Riceland</td>\n",
       "      <td>1</td>\n",
       "      <td>Riceland American Jazmine Rice</td>\n",
       "      <td>0.84</td>\n",
       "      <td>35200264013</td>\n",
       "      <td>35200264013</td>\n",
       "      <td>12125 Alamo Ranch Pkwy</td>\n",
       "      <td>San Antonio</td>\n",
       "      <td>1</td>\n",
       "      <td>TX</td>\n",
       "      <td>78253</td>\n",
       "    </tr>\n",
       "    <tr>\n",
       "      <th>1</th>\n",
       "      <td>1</td>\n",
       "      <td>11.0</td>\n",
       "      <td>Wed, 02 Jan 2013 00:00:00 GMT</td>\n",
       "      <td>2</td>\n",
       "      <td>1</td>\n",
       "      <td>Riceland</td>\n",
       "      <td>1</td>\n",
       "      <td>Riceland American Jazmine Rice</td>\n",
       "      <td>0.84</td>\n",
       "      <td>35200264013</td>\n",
       "      <td>35200264013</td>\n",
       "      <td>12125 Alamo Ranch Pkwy</td>\n",
       "      <td>San Antonio</td>\n",
       "      <td>1</td>\n",
       "      <td>TX</td>\n",
       "      <td>78253</td>\n",
       "    </tr>\n",
       "    <tr>\n",
       "      <th>2</th>\n",
       "      <td>1</td>\n",
       "      <td>14.0</td>\n",
       "      <td>Thu, 03 Jan 2013 00:00:00 GMT</td>\n",
       "      <td>3</td>\n",
       "      <td>1</td>\n",
       "      <td>Riceland</td>\n",
       "      <td>1</td>\n",
       "      <td>Riceland American Jazmine Rice</td>\n",
       "      <td>0.84</td>\n",
       "      <td>35200264013</td>\n",
       "      <td>35200264013</td>\n",
       "      <td>12125 Alamo Ranch Pkwy</td>\n",
       "      <td>San Antonio</td>\n",
       "      <td>1</td>\n",
       "      <td>TX</td>\n",
       "      <td>78253</td>\n",
       "    </tr>\n",
       "    <tr>\n",
       "      <th>3</th>\n",
       "      <td>1</td>\n",
       "      <td>13.0</td>\n",
       "      <td>Fri, 04 Jan 2013 00:00:00 GMT</td>\n",
       "      <td>4</td>\n",
       "      <td>1</td>\n",
       "      <td>Riceland</td>\n",
       "      <td>1</td>\n",
       "      <td>Riceland American Jazmine Rice</td>\n",
       "      <td>0.84</td>\n",
       "      <td>35200264013</td>\n",
       "      <td>35200264013</td>\n",
       "      <td>12125 Alamo Ranch Pkwy</td>\n",
       "      <td>San Antonio</td>\n",
       "      <td>1</td>\n",
       "      <td>TX</td>\n",
       "      <td>78253</td>\n",
       "    </tr>\n",
       "    <tr>\n",
       "      <th>4</th>\n",
       "      <td>1</td>\n",
       "      <td>10.0</td>\n",
       "      <td>Sat, 05 Jan 2013 00:00:00 GMT</td>\n",
       "      <td>5</td>\n",
       "      <td>1</td>\n",
       "      <td>Riceland</td>\n",
       "      <td>1</td>\n",
       "      <td>Riceland American Jazmine Rice</td>\n",
       "      <td>0.84</td>\n",
       "      <td>35200264013</td>\n",
       "      <td>35200264013</td>\n",
       "      <td>12125 Alamo Ranch Pkwy</td>\n",
       "      <td>San Antonio</td>\n",
       "      <td>1</td>\n",
       "      <td>TX</td>\n",
       "      <td>78253</td>\n",
       "    </tr>\n",
       "  </tbody>\n",
       "</table>\n",
       "</div>"
      ],
      "text/plain": [
       "   item  sale_amount                      sale_date  sale_id  store  \\\n",
       "0     1         13.0  Tue, 01 Jan 2013 00:00:00 GMT        1      1   \n",
       "1     1         11.0  Wed, 02 Jan 2013 00:00:00 GMT        2      1   \n",
       "2     1         14.0  Thu, 03 Jan 2013 00:00:00 GMT        3      1   \n",
       "3     1         13.0  Fri, 04 Jan 2013 00:00:00 GMT        4      1   \n",
       "4     1         10.0  Sat, 05 Jan 2013 00:00:00 GMT        5      1   \n",
       "\n",
       "  item_brand  item_id                       item_name  item_price  \\\n",
       "0   Riceland        1  Riceland American Jazmine Rice        0.84   \n",
       "1   Riceland        1  Riceland American Jazmine Rice        0.84   \n",
       "2   Riceland        1  Riceland American Jazmine Rice        0.84   \n",
       "3   Riceland        1  Riceland American Jazmine Rice        0.84   \n",
       "4   Riceland        1  Riceland American Jazmine Rice        0.84   \n",
       "\n",
       "    item_upc12   item_upc14           store_address   store_city  store_id  \\\n",
       "0  35200264013  35200264013  12125 Alamo Ranch Pkwy  San Antonio         1   \n",
       "1  35200264013  35200264013  12125 Alamo Ranch Pkwy  San Antonio         1   \n",
       "2  35200264013  35200264013  12125 Alamo Ranch Pkwy  San Antonio         1   \n",
       "3  35200264013  35200264013  12125 Alamo Ranch Pkwy  San Antonio         1   \n",
       "4  35200264013  35200264013  12125 Alamo Ranch Pkwy  San Antonio         1   \n",
       "\n",
       "  store_state  store_zipcode  \n",
       "0          TX          78253  \n",
       "1          TX          78253  \n",
       "2          TX          78253  \n",
       "3          TX          78253  \n",
       "4          TX          78253  "
      ]
     },
     "execution_count": 44,
     "metadata": {},
     "output_type": "execute_result"
    }
   ],
   "source": [
    "df.head()"
   ]
  },
  {
   "cell_type": "code",
   "execution_count": 45,
   "id": "95251846-cb19-4cc8-810c-2714bad7076b",
   "metadata": {},
   "outputs": [
    {
     "name": "stdout",
     "output_type": "stream",
     "text": [
      "<class 'pandas.core.frame.DataFrame'>\n",
      "Int64Index: 913000 entries, 0 to 912999\n",
      "Data columns (total 16 columns):\n",
      " #   Column         Non-Null Count   Dtype  \n",
      "---  ------         --------------   -----  \n",
      " 0   item           913000 non-null  int64  \n",
      " 1   sale_amount    913000 non-null  float64\n",
      " 2   sale_date      913000 non-null  object \n",
      " 3   sale_id        913000 non-null  int64  \n",
      " 4   store          913000 non-null  int64  \n",
      " 5   item_brand     913000 non-null  object \n",
      " 6   item_id        913000 non-null  int64  \n",
      " 7   item_name      913000 non-null  object \n",
      " 8   item_price     913000 non-null  float64\n",
      " 9   item_upc12     913000 non-null  int64  \n",
      " 10  item_upc14     913000 non-null  int64  \n",
      " 11  store_address  913000 non-null  object \n",
      " 12  store_city     913000 non-null  object \n",
      " 13  store_id       913000 non-null  int64  \n",
      " 14  store_state    913000 non-null  object \n",
      " 15  store_zipcode  913000 non-null  int64  \n",
      "dtypes: float64(2), int64(8), object(6)\n",
      "memory usage: 118.4+ MB\n"
     ]
    }
   ],
   "source": [
    "df.info()\n"
   ]
  },
  {
   "cell_type": "code",
   "execution_count": 46,
   "id": "f1a542a3-d2ec-42b2-a922-94d3055cb886",
   "metadata": {},
   "outputs": [
    {
     "data": {
      "text/html": [
       "<div>\n",
       "<style scoped>\n",
       "    .dataframe tbody tr th:only-of-type {\n",
       "        vertical-align: middle;\n",
       "    }\n",
       "\n",
       "    .dataframe tbody tr th {\n",
       "        vertical-align: top;\n",
       "    }\n",
       "\n",
       "    .dataframe thead th {\n",
       "        text-align: right;\n",
       "    }\n",
       "</style>\n",
       "<table border=\"1\" class=\"dataframe\">\n",
       "  <thead>\n",
       "    <tr style=\"text-align: right;\">\n",
       "      <th></th>\n",
       "      <th>item</th>\n",
       "      <th>sale_amount</th>\n",
       "      <th>sale_id</th>\n",
       "      <th>store</th>\n",
       "      <th>item_id</th>\n",
       "      <th>item_price</th>\n",
       "      <th>item_upc12</th>\n",
       "      <th>item_upc14</th>\n",
       "      <th>store_id</th>\n",
       "      <th>store_zipcode</th>\n",
       "    </tr>\n",
       "  </thead>\n",
       "  <tbody>\n",
       "    <tr>\n",
       "      <th>count</th>\n",
       "      <td>913000.000000</td>\n",
       "      <td>913000.000000</td>\n",
       "      <td>913000.000000</td>\n",
       "      <td>913000.000000</td>\n",
       "      <td>913000.000000</td>\n",
       "      <td>913000.000000</td>\n",
       "      <td>9.130000e+05</td>\n",
       "      <td>9.130000e+05</td>\n",
       "      <td>913000.000000</td>\n",
       "      <td>913000.000000</td>\n",
       "    </tr>\n",
       "    <tr>\n",
       "      <th>mean</th>\n",
       "      <td>25.500000</td>\n",
       "      <td>52.250287</td>\n",
       "      <td>456500.500000</td>\n",
       "      <td>5.500000</td>\n",
       "      <td>25.500000</td>\n",
       "      <td>5.160400</td>\n",
       "      <td>2.384688e+11</td>\n",
       "      <td>2.384688e+11</td>\n",
       "      <td>5.500000</td>\n",
       "      <td>78224.800000</td>\n",
       "    </tr>\n",
       "    <tr>\n",
       "      <th>std</th>\n",
       "      <td>14.430878</td>\n",
       "      <td>28.801144</td>\n",
       "      <td>263560.542223</td>\n",
       "      <td>2.872283</td>\n",
       "      <td>14.430878</td>\n",
       "      <td>2.737764</td>\n",
       "      <td>2.978005e+11</td>\n",
       "      <td>2.978005e+11</td>\n",
       "      <td>2.872283</td>\n",
       "      <td>16.479087</td>\n",
       "    </tr>\n",
       "    <tr>\n",
       "      <th>min</th>\n",
       "      <td>1.000000</td>\n",
       "      <td>0.000000</td>\n",
       "      <td>1.000000</td>\n",
       "      <td>1.000000</td>\n",
       "      <td>1.000000</td>\n",
       "      <td>0.600000</td>\n",
       "      <td>8.500005e+09</td>\n",
       "      <td>8.500005e+09</td>\n",
       "      <td>1.000000</td>\n",
       "      <td>78201.000000</td>\n",
       "    </tr>\n",
       "    <tr>\n",
       "      <th>25%</th>\n",
       "      <td>13.000000</td>\n",
       "      <td>30.000000</td>\n",
       "      <td>228250.750000</td>\n",
       "      <td>3.000000</td>\n",
       "      <td>13.000000</td>\n",
       "      <td>2.970000</td>\n",
       "      <td>3.367410e+10</td>\n",
       "      <td>3.367410e+10</td>\n",
       "      <td>3.000000</td>\n",
       "      <td>78217.000000</td>\n",
       "    </tr>\n",
       "    <tr>\n",
       "      <th>50%</th>\n",
       "      <td>25.500000</td>\n",
       "      <td>47.000000</td>\n",
       "      <td>456500.500000</td>\n",
       "      <td>5.500000</td>\n",
       "      <td>25.500000</td>\n",
       "      <td>5.195000</td>\n",
       "      <td>7.103651e+10</td>\n",
       "      <td>7.103651e+10</td>\n",
       "      <td>5.500000</td>\n",
       "      <td>78220.500000</td>\n",
       "    </tr>\n",
       "    <tr>\n",
       "      <th>75%</th>\n",
       "      <td>38.000000</td>\n",
       "      <td>70.000000</td>\n",
       "      <td>684750.250000</td>\n",
       "      <td>8.000000</td>\n",
       "      <td>38.000000</td>\n",
       "      <td>7.520000</td>\n",
       "      <td>6.030842e+11</td>\n",
       "      <td>6.030842e+11</td>\n",
       "      <td>8.000000</td>\n",
       "      <td>78232.000000</td>\n",
       "    </tr>\n",
       "    <tr>\n",
       "      <th>max</th>\n",
       "      <td>50.000000</td>\n",
       "      <td>231.000000</td>\n",
       "      <td>913000.000000</td>\n",
       "      <td>10.000000</td>\n",
       "      <td>50.000000</td>\n",
       "      <td>9.640000</td>\n",
       "      <td>8.846237e+11</td>\n",
       "      <td>8.846237e+11</td>\n",
       "      <td>10.000000</td>\n",
       "      <td>78253.000000</td>\n",
       "    </tr>\n",
       "  </tbody>\n",
       "</table>\n",
       "</div>"
      ],
      "text/plain": [
       "                item    sale_amount        sale_id          store  \\\n",
       "count  913000.000000  913000.000000  913000.000000  913000.000000   \n",
       "mean       25.500000      52.250287  456500.500000       5.500000   \n",
       "std        14.430878      28.801144  263560.542223       2.872283   \n",
       "min         1.000000       0.000000       1.000000       1.000000   \n",
       "25%        13.000000      30.000000  228250.750000       3.000000   \n",
       "50%        25.500000      47.000000  456500.500000       5.500000   \n",
       "75%        38.000000      70.000000  684750.250000       8.000000   \n",
       "max        50.000000     231.000000  913000.000000      10.000000   \n",
       "\n",
       "             item_id     item_price    item_upc12    item_upc14  \\\n",
       "count  913000.000000  913000.000000  9.130000e+05  9.130000e+05   \n",
       "mean       25.500000       5.160400  2.384688e+11  2.384688e+11   \n",
       "std        14.430878       2.737764  2.978005e+11  2.978005e+11   \n",
       "min         1.000000       0.600000  8.500005e+09  8.500005e+09   \n",
       "25%        13.000000       2.970000  3.367410e+10  3.367410e+10   \n",
       "50%        25.500000       5.195000  7.103651e+10  7.103651e+10   \n",
       "75%        38.000000       7.520000  6.030842e+11  6.030842e+11   \n",
       "max        50.000000       9.640000  8.846237e+11  8.846237e+11   \n",
       "\n",
       "            store_id  store_zipcode  \n",
       "count  913000.000000  913000.000000  \n",
       "mean        5.500000   78224.800000  \n",
       "std         2.872283      16.479087  \n",
       "min         1.000000   78201.000000  \n",
       "25%         3.000000   78217.000000  \n",
       "50%         5.500000   78220.500000  \n",
       "75%         8.000000   78232.000000  \n",
       "max        10.000000   78253.000000  "
      ]
     },
     "execution_count": 46,
     "metadata": {},
     "output_type": "execute_result"
    }
   ],
   "source": [
    "df.describe()"
   ]
  },
  {
   "cell_type": "code",
   "execution_count": 47,
   "id": "360fe5fb-9926-40d0-a1c6-355e4f67bdb4",
   "metadata": {},
   "outputs": [
    {
     "data": {
      "text/plain": [
       "dtype('O')"
      ]
     },
     "execution_count": 47,
     "metadata": {},
     "output_type": "execute_result"
    }
   ],
   "source": [
    " df.sale_date.dtype"
   ]
  },
  {
   "cell_type": "markdown",
   "id": "2a36586d",
   "metadata": {},
   "source": [
    "#### range of dates? "
   ]
  },
  {
   "cell_type": "code",
   "execution_count": 48,
   "id": "9ba77457-933a-4758-a02e-ea5aec345585",
   "metadata": {},
   "outputs": [
    {
     "data": {
      "text/plain": [
       "('Fri, 01 Apr 2016 00:00:00 GMT', 'Wed, 31 May 2017 00:00:00 GMT')"
      ]
     },
     "execution_count": 48,
     "metadata": {},
     "output_type": "execute_result"
    }
   ],
   "source": [
    "df.sale_date.min(), df.sale_date.max()"
   ]
  },
  {
   "cell_type": "code",
   "execution_count": 102,
   "id": "fc93ed9d-39ce-4b1c-955b-c8cedf15f7df",
   "metadata": {},
   "outputs": [
    {
     "name": "stdout",
     "output_type": "stream",
     "text": [
      "item\n"
     ]
    },
    {
     "ename": "KeyError",
     "evalue": "'item'",
     "output_type": "error",
     "traceback": [
      "\u001b[0;31m---------------------------------------------------------------------------\u001b[0m",
      "\u001b[0;31mKeyError\u001b[0m                                  Traceback (most recent call last)",
      "\u001b[0;32m/var/folders/wd/5_z1tvw94pv9x2ld8p_0dl2r0000gn/T/ipykernel_54030/1445849320.py\u001b[0m in \u001b[0;36m<module>\u001b[0;34m\u001b[0m\n\u001b[1;32m      1\u001b[0m \u001b[0;32mfor\u001b[0m \u001b[0mcol\u001b[0m \u001b[0;32min\u001b[0m \u001b[0mdf\u001b[0m\u001b[0;34m.\u001b[0m\u001b[0mcolumns\u001b[0m\u001b[0;34m:\u001b[0m\u001b[0;34m\u001b[0m\u001b[0;34m\u001b[0m\u001b[0m\n\u001b[1;32m      2\u001b[0m     \u001b[0mprint\u001b[0m\u001b[0;34m(\u001b[0m\u001b[0mcol\u001b[0m\u001b[0;34m)\u001b[0m\u001b[0;34m\u001b[0m\u001b[0;34m\u001b[0m\u001b[0m\n\u001b[0;32m----> 3\u001b[0;31m     \u001b[0mdf\u001b[0m\u001b[0;34m[\u001b[0m\u001b[0mcol\u001b[0m\u001b[0;34m]\u001b[0m\u001b[0;34m.\u001b[0m\u001b[0mhist\u001b[0m\u001b[0;34m(\u001b[0m\u001b[0mcol\u001b[0m\u001b[0;34m)\u001b[0m\u001b[0;34m\u001b[0m\u001b[0;34m\u001b[0m\u001b[0m\n\u001b[0m\u001b[1;32m      4\u001b[0m     \u001b[0mplt\u001b[0m\u001b[0;34m.\u001b[0m\u001b[0mshow\u001b[0m\u001b[0;34m(\u001b[0m\u001b[0;34m)\u001b[0m\u001b[0;34m\u001b[0m\u001b[0;34m\u001b[0m\u001b[0m\n",
      "\u001b[0;32m/usr/local/anaconda3/lib/python3.9/site-packages/pandas/plotting/_core.py\u001b[0m in \u001b[0;36mhist_series\u001b[0;34m(self, by, ax, grid, xlabelsize, xrot, ylabelsize, yrot, figsize, bins, backend, legend, **kwargs)\u001b[0m\n\u001b[1;32m     98\u001b[0m     \"\"\"\n\u001b[1;32m     99\u001b[0m     \u001b[0mplot_backend\u001b[0m \u001b[0;34m=\u001b[0m \u001b[0m_get_plot_backend\u001b[0m\u001b[0;34m(\u001b[0m\u001b[0mbackend\u001b[0m\u001b[0;34m)\u001b[0m\u001b[0;34m\u001b[0m\u001b[0;34m\u001b[0m\u001b[0m\n\u001b[0;32m--> 100\u001b[0;31m     return plot_backend.hist_series(\n\u001b[0m\u001b[1;32m    101\u001b[0m         \u001b[0mself\u001b[0m\u001b[0;34m,\u001b[0m\u001b[0;34m\u001b[0m\u001b[0;34m\u001b[0m\u001b[0m\n\u001b[1;32m    102\u001b[0m         \u001b[0mby\u001b[0m\u001b[0;34m=\u001b[0m\u001b[0mby\u001b[0m\u001b[0;34m,\u001b[0m\u001b[0;34m\u001b[0m\u001b[0;34m\u001b[0m\u001b[0m\n",
      "\u001b[0;32m/usr/local/anaconda3/lib/python3.9/site-packages/pandas/plotting/_matplotlib/hist.py\u001b[0m in \u001b[0;36mhist_series\u001b[0;34m(self, by, ax, grid, xlabelsize, xrot, ylabelsize, yrot, figsize, bins, legend, **kwds)\u001b[0m\n\u001b[1;32m    405\u001b[0m                 \u001b[0;34m\"'by' argument, since a new 'Figure' instance will be created\"\u001b[0m\u001b[0;34m\u001b[0m\u001b[0;34m\u001b[0m\u001b[0m\n\u001b[1;32m    406\u001b[0m             )\n\u001b[0;32m--> 407\u001b[0;31m         axes = _grouped_hist(\n\u001b[0m\u001b[1;32m    408\u001b[0m             \u001b[0mself\u001b[0m\u001b[0;34m,\u001b[0m\u001b[0;34m\u001b[0m\u001b[0;34m\u001b[0m\u001b[0m\n\u001b[1;32m    409\u001b[0m             \u001b[0mby\u001b[0m\u001b[0;34m=\u001b[0m\u001b[0mby\u001b[0m\u001b[0;34m,\u001b[0m\u001b[0;34m\u001b[0m\u001b[0;34m\u001b[0m\u001b[0m\n",
      "\u001b[0;32m/usr/local/anaconda3/lib/python3.9/site-packages/pandas/plotting/_matplotlib/hist.py\u001b[0m in \u001b[0;36m_grouped_hist\u001b[0;34m(data, column, by, ax, bins, figsize, layout, sharex, sharey, rot, grid, xlabelsize, xrot, ylabelsize, yrot, legend, **kwargs)\u001b[0m\n\u001b[1;32m    331\u001b[0m         \u001b[0mxrot\u001b[0m \u001b[0;34m=\u001b[0m \u001b[0mrot\u001b[0m\u001b[0;34m\u001b[0m\u001b[0;34m\u001b[0m\u001b[0m\n\u001b[1;32m    332\u001b[0m \u001b[0;34m\u001b[0m\u001b[0m\n\u001b[0;32m--> 333\u001b[0;31m     fig, axes = _grouped_plot(\n\u001b[0m\u001b[1;32m    334\u001b[0m         \u001b[0mplot_group\u001b[0m\u001b[0;34m,\u001b[0m\u001b[0;34m\u001b[0m\u001b[0;34m\u001b[0m\u001b[0m\n\u001b[1;32m    335\u001b[0m         \u001b[0mdata\u001b[0m\u001b[0;34m,\u001b[0m\u001b[0;34m\u001b[0m\u001b[0;34m\u001b[0m\u001b[0m\n",
      "\u001b[0;32m/usr/local/anaconda3/lib/python3.9/site-packages/pandas/plotting/_matplotlib/hist.py\u001b[0m in \u001b[0;36m_grouped_plot\u001b[0;34m(plotf, data, column, by, numeric_only, figsize, sharex, sharey, layout, rot, ax, **kwargs)\u001b[0m\n\u001b[1;32m    251\u001b[0m         )\n\u001b[1;32m    252\u001b[0m \u001b[0;34m\u001b[0m\u001b[0m\n\u001b[0;32m--> 253\u001b[0;31m     \u001b[0mgrouped\u001b[0m \u001b[0;34m=\u001b[0m \u001b[0mdata\u001b[0m\u001b[0;34m.\u001b[0m\u001b[0mgroupby\u001b[0m\u001b[0;34m(\u001b[0m\u001b[0mby\u001b[0m\u001b[0;34m)\u001b[0m\u001b[0;34m\u001b[0m\u001b[0;34m\u001b[0m\u001b[0m\n\u001b[0m\u001b[1;32m    254\u001b[0m     \u001b[0;32mif\u001b[0m \u001b[0mcolumn\u001b[0m \u001b[0;32mis\u001b[0m \u001b[0;32mnot\u001b[0m \u001b[0;32mNone\u001b[0m\u001b[0;34m:\u001b[0m\u001b[0;34m\u001b[0m\u001b[0;34m\u001b[0m\u001b[0m\n\u001b[1;32m    255\u001b[0m         \u001b[0mgrouped\u001b[0m \u001b[0;34m=\u001b[0m \u001b[0mgrouped\u001b[0m\u001b[0;34m[\u001b[0m\u001b[0mcolumn\u001b[0m\u001b[0;34m]\u001b[0m\u001b[0;34m\u001b[0m\u001b[0;34m\u001b[0m\u001b[0m\n",
      "\u001b[0;32m/usr/local/anaconda3/lib/python3.9/site-packages/pandas/core/series.py\u001b[0m in \u001b[0;36mgroupby\u001b[0;34m(self, by, axis, level, as_index, sort, group_keys, squeeze, observed, dropna)\u001b[0m\n\u001b[1;32m   1920\u001b[0m         \u001b[0;31m# error: Argument \"squeeze\" to \"SeriesGroupBy\" has incompatible type\u001b[0m\u001b[0;34m\u001b[0m\u001b[0;34m\u001b[0m\u001b[0m\n\u001b[1;32m   1921\u001b[0m         \u001b[0;31m# \"Union[bool, NoDefault]\"; expected \"bool\"\u001b[0m\u001b[0;34m\u001b[0m\u001b[0;34m\u001b[0m\u001b[0m\n\u001b[0;32m-> 1922\u001b[0;31m         return SeriesGroupBy(\n\u001b[0m\u001b[1;32m   1923\u001b[0m             \u001b[0mobj\u001b[0m\u001b[0;34m=\u001b[0m\u001b[0mself\u001b[0m\u001b[0;34m,\u001b[0m\u001b[0;34m\u001b[0m\u001b[0;34m\u001b[0m\u001b[0m\n\u001b[1;32m   1924\u001b[0m             \u001b[0mkeys\u001b[0m\u001b[0;34m=\u001b[0m\u001b[0mby\u001b[0m\u001b[0;34m,\u001b[0m\u001b[0;34m\u001b[0m\u001b[0;34m\u001b[0m\u001b[0m\n",
      "\u001b[0;32m/usr/local/anaconda3/lib/python3.9/site-packages/pandas/core/groupby/groupby.py\u001b[0m in \u001b[0;36m__init__\u001b[0;34m(self, obj, keys, axis, level, grouper, exclusions, selection, as_index, sort, group_keys, squeeze, observed, mutated, dropna)\u001b[0m\n\u001b[1;32m    880\u001b[0m             \u001b[0;32mfrom\u001b[0m \u001b[0mpandas\u001b[0m\u001b[0;34m.\u001b[0m\u001b[0mcore\u001b[0m\u001b[0;34m.\u001b[0m\u001b[0mgroupby\u001b[0m\u001b[0;34m.\u001b[0m\u001b[0mgrouper\u001b[0m \u001b[0;32mimport\u001b[0m \u001b[0mget_grouper\u001b[0m\u001b[0;34m\u001b[0m\u001b[0;34m\u001b[0m\u001b[0m\n\u001b[1;32m    881\u001b[0m \u001b[0;34m\u001b[0m\u001b[0m\n\u001b[0;32m--> 882\u001b[0;31m             grouper, exclusions, obj = get_grouper(\n\u001b[0m\u001b[1;32m    883\u001b[0m                 \u001b[0mobj\u001b[0m\u001b[0;34m,\u001b[0m\u001b[0;34m\u001b[0m\u001b[0;34m\u001b[0m\u001b[0m\n\u001b[1;32m    884\u001b[0m                 \u001b[0mkeys\u001b[0m\u001b[0;34m,\u001b[0m\u001b[0;34m\u001b[0m\u001b[0;34m\u001b[0m\u001b[0m\n",
      "\u001b[0;32m/usr/local/anaconda3/lib/python3.9/site-packages/pandas/core/groupby/grouper.py\u001b[0m in \u001b[0;36mget_grouper\u001b[0;34m(obj, key, axis, level, sort, observed, mutated, validate, dropna)\u001b[0m\n\u001b[1;32m    880\u001b[0m                 \u001b[0min_axis\u001b[0m\u001b[0;34m,\u001b[0m \u001b[0mlevel\u001b[0m\u001b[0;34m,\u001b[0m \u001b[0mgpr\u001b[0m \u001b[0;34m=\u001b[0m \u001b[0;32mFalse\u001b[0m\u001b[0;34m,\u001b[0m \u001b[0mgpr\u001b[0m\u001b[0;34m,\u001b[0m \u001b[0;32mNone\u001b[0m\u001b[0;34m\u001b[0m\u001b[0;34m\u001b[0m\u001b[0m\n\u001b[1;32m    881\u001b[0m             \u001b[0;32melse\u001b[0m\u001b[0;34m:\u001b[0m\u001b[0;34m\u001b[0m\u001b[0;34m\u001b[0m\u001b[0m\n\u001b[0;32m--> 882\u001b[0;31m                 \u001b[0;32mraise\u001b[0m \u001b[0mKeyError\u001b[0m\u001b[0;34m(\u001b[0m\u001b[0mgpr\u001b[0m\u001b[0;34m)\u001b[0m\u001b[0;34m\u001b[0m\u001b[0;34m\u001b[0m\u001b[0m\n\u001b[0m\u001b[1;32m    883\u001b[0m         \u001b[0;32melif\u001b[0m \u001b[0misinstance\u001b[0m\u001b[0;34m(\u001b[0m\u001b[0mgpr\u001b[0m\u001b[0;34m,\u001b[0m \u001b[0mGrouper\u001b[0m\u001b[0;34m)\u001b[0m \u001b[0;32mand\u001b[0m \u001b[0mgpr\u001b[0m\u001b[0;34m.\u001b[0m\u001b[0mkey\u001b[0m \u001b[0;32mis\u001b[0m \u001b[0;32mnot\u001b[0m \u001b[0;32mNone\u001b[0m\u001b[0;34m:\u001b[0m\u001b[0;34m\u001b[0m\u001b[0;34m\u001b[0m\u001b[0m\n\u001b[1;32m    884\u001b[0m             \u001b[0;31m# Add key to exclusions\u001b[0m\u001b[0;34m\u001b[0m\u001b[0;34m\u001b[0m\u001b[0m\n",
      "\u001b[0;31mKeyError\u001b[0m: 'item'"
     ]
    }
   ],
   "source": [
    "for col in df.columns:\n",
    "    print(col)\n",
    "    df[col].hist()\n",
    "    plt.show()"
   ]
  },
  {
   "cell_type": "code",
   "execution_count": null,
   "id": "b36fff1e",
   "metadata": {},
   "outputs": [],
   "source": []
  },
  {
   "cell_type": "code",
   "execution_count": null,
   "id": "8527dd8c",
   "metadata": {},
   "outputs": [],
   "source": []
  },
  {
   "cell_type": "markdown",
   "id": "87fb9168",
   "metadata": {},
   "source": [
    "## Prepare"
   ]
  },
  {
   "cell_type": "markdown",
   "id": "e9bce7bc",
   "metadata": {},
   "source": [
    "for time series data: \n",
    "- make pandas time aware\n",
    "- look at the frequency of the data \n",
    "- look for gaps in time or null values\n",
    "- get to know our data a litte better"
   ]
  },
  {
   "cell_type": "markdown",
   "id": "a3805fae",
   "metadata": {},
   "source": [
    "### make pandas time aware\n",
    "\n",
    "1. Convert 'date' column to datetime object\n",
    "2. Set the datetime column as index\n",
    "3. Sort the datetime index\n",
    "\n",
    "formatting info: https://docs.python.org/3/library/datetime.html#strftime-and-strptime-behavior"
   ]
  },
  {
   "cell_type": "markdown",
   "id": "f639142f",
   "metadata": {},
   "source": [
    "#### 1. Convert 'date' column to datetime object"
   ]
  },
  {
   "cell_type": "code",
   "execution_count": 50,
   "id": "b7c06154",
   "metadata": {},
   "outputs": [],
   "source": [
    "#df.sale_date.astype('datetime64')"
   ]
  },
  {
   "cell_type": "code",
   "execution_count": 51,
   "id": "56715a62",
   "metadata": {},
   "outputs": [],
   "source": [
    "#pd.to_datetime(df.sale_date)"
   ]
  },
  {
   "cell_type": "markdown",
   "id": "96293cc9",
   "metadata": {},
   "source": [
    "#### check for 00:00:00 GMT"
   ]
  },
  {
   "cell_type": "code",
   "execution_count": 52,
   "id": "28927094",
   "metadata": {},
   "outputs": [
    {
     "data": {
      "text/plain": [
       "0         Tue, 01 Jan 2013 00:00:00 GMT\n",
       "1         Wed, 02 Jan 2013 00:00:00 GMT\n",
       "2         Thu, 03 Jan 2013 00:00:00 GMT\n",
       "3         Fri, 04 Jan 2013 00:00:00 GMT\n",
       "4         Sat, 05 Jan 2013 00:00:00 GMT\n",
       "                      ...              \n",
       "912995    Wed, 27 Dec 2017 00:00:00 GMT\n",
       "912996    Thu, 28 Dec 2017 00:00:00 GMT\n",
       "912997    Fri, 29 Dec 2017 00:00:00 GMT\n",
       "912998    Sat, 30 Dec 2017 00:00:00 GMT\n",
       "912999    Sun, 31 Dec 2017 00:00:00 GMT\n",
       "Name: sale_date, Length: 913000, dtype: object"
      ]
     },
     "execution_count": 52,
     "metadata": {},
     "output_type": "execute_result"
    }
   ],
   "source": [
    "df.sale_date"
   ]
  },
  {
   "cell_type": "code",
   "execution_count": 53,
   "id": "65bc4096",
   "metadata": {},
   "outputs": [],
   "source": [
    "df.sale_date=df.sale_date.str.replace('00:00:00 GMT','')"
   ]
  },
  {
   "cell_type": "code",
   "execution_count": 54,
   "id": "6703c927-cbbd-4095-90ff-5eb2134b0479",
   "metadata": {},
   "outputs": [],
   "source": [
    "df.sale_date=df.sale_date.str.strip()"
   ]
  },
  {
   "cell_type": "code",
   "execution_count": 55,
   "id": "983dc7cb-d022-4e39-b77a-1bbcae417a29",
   "metadata": {},
   "outputs": [
    {
     "data": {
      "text/plain": [
       "0         Tue, 01 Jan 2013\n",
       "1         Wed, 02 Jan 2013\n",
       "2         Thu, 03 Jan 2013\n",
       "3         Fri, 04 Jan 2013\n",
       "4         Sat, 05 Jan 2013\n",
       "                ...       \n",
       "912995    Wed, 27 Dec 2017\n",
       "912996    Thu, 28 Dec 2017\n",
       "912997    Fri, 29 Dec 2017\n",
       "912998    Sat, 30 Dec 2017\n",
       "912999    Sun, 31 Dec 2017\n",
       "Name: sale_date, Length: 913000, dtype: object"
      ]
     },
     "execution_count": 55,
     "metadata": {},
     "output_type": "execute_result"
    }
   ],
   "source": [
    "df.sale_date"
   ]
  },
  {
   "cell_type": "code",
   "execution_count": 56,
   "id": "6160acfe",
   "metadata": {},
   "outputs": [],
   "source": [
    "df.sale_date=pd.to_datetime(df.sale_date,format='%a, %d %b %Y')"
   ]
  },
  {
   "cell_type": "markdown",
   "id": "855200d9",
   "metadata": {},
   "source": [
    "#### 2. Set the datetime column as Index"
   ]
  },
  {
   "cell_type": "code",
   "execution_count": 57,
   "id": "63871e7a-3981-4c1f-a6ad-4c697c773254",
   "metadata": {},
   "outputs": [],
   "source": [
    "df=df.set_index('sale_date')"
   ]
  },
  {
   "cell_type": "code",
   "execution_count": 58,
   "id": "f016f268-bb0f-4423-b127-14b70897783c",
   "metadata": {},
   "outputs": [
    {
     "data": {
      "text/html": [
       "<div>\n",
       "<style scoped>\n",
       "    .dataframe tbody tr th:only-of-type {\n",
       "        vertical-align: middle;\n",
       "    }\n",
       "\n",
       "    .dataframe tbody tr th {\n",
       "        vertical-align: top;\n",
       "    }\n",
       "\n",
       "    .dataframe thead th {\n",
       "        text-align: right;\n",
       "    }\n",
       "</style>\n",
       "<table border=\"1\" class=\"dataframe\">\n",
       "  <thead>\n",
       "    <tr style=\"text-align: right;\">\n",
       "      <th></th>\n",
       "      <th>item</th>\n",
       "      <th>sale_amount</th>\n",
       "      <th>sale_id</th>\n",
       "      <th>store</th>\n",
       "      <th>item_brand</th>\n",
       "      <th>item_id</th>\n",
       "      <th>item_name</th>\n",
       "      <th>item_price</th>\n",
       "      <th>item_upc12</th>\n",
       "      <th>item_upc14</th>\n",
       "      <th>store_address</th>\n",
       "      <th>store_city</th>\n",
       "      <th>store_id</th>\n",
       "      <th>store_state</th>\n",
       "      <th>store_zipcode</th>\n",
       "    </tr>\n",
       "    <tr>\n",
       "      <th>sale_date</th>\n",
       "      <th></th>\n",
       "      <th></th>\n",
       "      <th></th>\n",
       "      <th></th>\n",
       "      <th></th>\n",
       "      <th></th>\n",
       "      <th></th>\n",
       "      <th></th>\n",
       "      <th></th>\n",
       "      <th></th>\n",
       "      <th></th>\n",
       "      <th></th>\n",
       "      <th></th>\n",
       "      <th></th>\n",
       "      <th></th>\n",
       "    </tr>\n",
       "  </thead>\n",
       "  <tbody>\n",
       "    <tr>\n",
       "      <th>2013-01-01</th>\n",
       "      <td>1</td>\n",
       "      <td>13.0</td>\n",
       "      <td>1</td>\n",
       "      <td>1</td>\n",
       "      <td>Riceland</td>\n",
       "      <td>1</td>\n",
       "      <td>Riceland American Jazmine Rice</td>\n",
       "      <td>0.84</td>\n",
       "      <td>35200264013</td>\n",
       "      <td>35200264013</td>\n",
       "      <td>12125 Alamo Ranch Pkwy</td>\n",
       "      <td>San Antonio</td>\n",
       "      <td>1</td>\n",
       "      <td>TX</td>\n",
       "      <td>78253</td>\n",
       "    </tr>\n",
       "    <tr>\n",
       "      <th>2013-01-02</th>\n",
       "      <td>1</td>\n",
       "      <td>11.0</td>\n",
       "      <td>2</td>\n",
       "      <td>1</td>\n",
       "      <td>Riceland</td>\n",
       "      <td>1</td>\n",
       "      <td>Riceland American Jazmine Rice</td>\n",
       "      <td>0.84</td>\n",
       "      <td>35200264013</td>\n",
       "      <td>35200264013</td>\n",
       "      <td>12125 Alamo Ranch Pkwy</td>\n",
       "      <td>San Antonio</td>\n",
       "      <td>1</td>\n",
       "      <td>TX</td>\n",
       "      <td>78253</td>\n",
       "    </tr>\n",
       "    <tr>\n",
       "      <th>2013-01-03</th>\n",
       "      <td>1</td>\n",
       "      <td>14.0</td>\n",
       "      <td>3</td>\n",
       "      <td>1</td>\n",
       "      <td>Riceland</td>\n",
       "      <td>1</td>\n",
       "      <td>Riceland American Jazmine Rice</td>\n",
       "      <td>0.84</td>\n",
       "      <td>35200264013</td>\n",
       "      <td>35200264013</td>\n",
       "      <td>12125 Alamo Ranch Pkwy</td>\n",
       "      <td>San Antonio</td>\n",
       "      <td>1</td>\n",
       "      <td>TX</td>\n",
       "      <td>78253</td>\n",
       "    </tr>\n",
       "    <tr>\n",
       "      <th>2013-01-04</th>\n",
       "      <td>1</td>\n",
       "      <td>13.0</td>\n",
       "      <td>4</td>\n",
       "      <td>1</td>\n",
       "      <td>Riceland</td>\n",
       "      <td>1</td>\n",
       "      <td>Riceland American Jazmine Rice</td>\n",
       "      <td>0.84</td>\n",
       "      <td>35200264013</td>\n",
       "      <td>35200264013</td>\n",
       "      <td>12125 Alamo Ranch Pkwy</td>\n",
       "      <td>San Antonio</td>\n",
       "      <td>1</td>\n",
       "      <td>TX</td>\n",
       "      <td>78253</td>\n",
       "    </tr>\n",
       "    <tr>\n",
       "      <th>2013-01-05</th>\n",
       "      <td>1</td>\n",
       "      <td>10.0</td>\n",
       "      <td>5</td>\n",
       "      <td>1</td>\n",
       "      <td>Riceland</td>\n",
       "      <td>1</td>\n",
       "      <td>Riceland American Jazmine Rice</td>\n",
       "      <td>0.84</td>\n",
       "      <td>35200264013</td>\n",
       "      <td>35200264013</td>\n",
       "      <td>12125 Alamo Ranch Pkwy</td>\n",
       "      <td>San Antonio</td>\n",
       "      <td>1</td>\n",
       "      <td>TX</td>\n",
       "      <td>78253</td>\n",
       "    </tr>\n",
       "  </tbody>\n",
       "</table>\n",
       "</div>"
      ],
      "text/plain": [
       "            item  sale_amount  sale_id  store item_brand  item_id  \\\n",
       "sale_date                                                           \n",
       "2013-01-01     1         13.0        1      1   Riceland        1   \n",
       "2013-01-02     1         11.0        2      1   Riceland        1   \n",
       "2013-01-03     1         14.0        3      1   Riceland        1   \n",
       "2013-01-04     1         13.0        4      1   Riceland        1   \n",
       "2013-01-05     1         10.0        5      1   Riceland        1   \n",
       "\n",
       "                                 item_name  item_price   item_upc12  \\\n",
       "sale_date                                                             \n",
       "2013-01-01  Riceland American Jazmine Rice        0.84  35200264013   \n",
       "2013-01-02  Riceland American Jazmine Rice        0.84  35200264013   \n",
       "2013-01-03  Riceland American Jazmine Rice        0.84  35200264013   \n",
       "2013-01-04  Riceland American Jazmine Rice        0.84  35200264013   \n",
       "2013-01-05  Riceland American Jazmine Rice        0.84  35200264013   \n",
       "\n",
       "             item_upc14           store_address   store_city  store_id  \\\n",
       "sale_date                                                                \n",
       "2013-01-01  35200264013  12125 Alamo Ranch Pkwy  San Antonio         1   \n",
       "2013-01-02  35200264013  12125 Alamo Ranch Pkwy  San Antonio         1   \n",
       "2013-01-03  35200264013  12125 Alamo Ranch Pkwy  San Antonio         1   \n",
       "2013-01-04  35200264013  12125 Alamo Ranch Pkwy  San Antonio         1   \n",
       "2013-01-05  35200264013  12125 Alamo Ranch Pkwy  San Antonio         1   \n",
       "\n",
       "           store_state  store_zipcode  \n",
       "sale_date                              \n",
       "2013-01-01          TX          78253  \n",
       "2013-01-02          TX          78253  \n",
       "2013-01-03          TX          78253  \n",
       "2013-01-04          TX          78253  \n",
       "2013-01-05          TX          78253  "
      ]
     },
     "execution_count": 58,
     "metadata": {},
     "output_type": "execute_result"
    }
   ],
   "source": [
    "df.head()"
   ]
  },
  {
   "cell_type": "markdown",
   "id": "380e2f63",
   "metadata": {},
   "source": [
    "#### 3. Sort the datetime index"
   ]
  },
  {
   "cell_type": "code",
   "execution_count": 59,
   "id": "71b5c2a1",
   "metadata": {},
   "outputs": [],
   "source": [
    "df=df.sort_index()"
   ]
  },
  {
   "cell_type": "code",
   "execution_count": 60,
   "id": "a9d90024-e910-4db7-9ec9-0fee977d962f",
   "metadata": {},
   "outputs": [
    {
     "data": {
      "text/html": [
       "<div>\n",
       "<style scoped>\n",
       "    .dataframe tbody tr th:only-of-type {\n",
       "        vertical-align: middle;\n",
       "    }\n",
       "\n",
       "    .dataframe tbody tr th {\n",
       "        vertical-align: top;\n",
       "    }\n",
       "\n",
       "    .dataframe thead th {\n",
       "        text-align: right;\n",
       "    }\n",
       "</style>\n",
       "<table border=\"1\" class=\"dataframe\">\n",
       "  <thead>\n",
       "    <tr style=\"text-align: right;\">\n",
       "      <th></th>\n",
       "      <th>item</th>\n",
       "      <th>sale_amount</th>\n",
       "      <th>sale_id</th>\n",
       "      <th>store</th>\n",
       "      <th>item_brand</th>\n",
       "      <th>item_id</th>\n",
       "      <th>item_name</th>\n",
       "      <th>item_price</th>\n",
       "      <th>item_upc12</th>\n",
       "      <th>item_upc14</th>\n",
       "      <th>store_address</th>\n",
       "      <th>store_city</th>\n",
       "      <th>store_id</th>\n",
       "      <th>store_state</th>\n",
       "      <th>store_zipcode</th>\n",
       "    </tr>\n",
       "    <tr>\n",
       "      <th>sale_date</th>\n",
       "      <th></th>\n",
       "      <th></th>\n",
       "      <th></th>\n",
       "      <th></th>\n",
       "      <th></th>\n",
       "      <th></th>\n",
       "      <th></th>\n",
       "      <th></th>\n",
       "      <th></th>\n",
       "      <th></th>\n",
       "      <th></th>\n",
       "      <th></th>\n",
       "      <th></th>\n",
       "      <th></th>\n",
       "      <th></th>\n",
       "    </tr>\n",
       "  </thead>\n",
       "  <tbody>\n",
       "    <tr>\n",
       "      <th>2013-01-01</th>\n",
       "      <td>1</td>\n",
       "      <td>13.0</td>\n",
       "      <td>1</td>\n",
       "      <td>1</td>\n",
       "      <td>Riceland</td>\n",
       "      <td>1</td>\n",
       "      <td>Riceland American Jazmine Rice</td>\n",
       "      <td>0.84</td>\n",
       "      <td>35200264013</td>\n",
       "      <td>35200264013</td>\n",
       "      <td>12125 Alamo Ranch Pkwy</td>\n",
       "      <td>San Antonio</td>\n",
       "      <td>1</td>\n",
       "      <td>TX</td>\n",
       "      <td>78253</td>\n",
       "    </tr>\n",
       "    <tr>\n",
       "      <th>2013-01-01</th>\n",
       "      <td>17</td>\n",
       "      <td>26.0</td>\n",
       "      <td>295813</td>\n",
       "      <td>3</td>\n",
       "      <td>Ducal</td>\n",
       "      <td>17</td>\n",
       "      <td>Ducal Refried Red Beans</td>\n",
       "      <td>1.16</td>\n",
       "      <td>88313590791</td>\n",
       "      <td>88313590791</td>\n",
       "      <td>2118 Fredericksburg Rdj</td>\n",
       "      <td>San Antonio</td>\n",
       "      <td>3</td>\n",
       "      <td>TX</td>\n",
       "      <td>78201</td>\n",
       "    </tr>\n",
       "    <tr>\n",
       "      <th>2013-01-01</th>\n",
       "      <td>7</td>\n",
       "      <td>32.0</td>\n",
       "      <td>125995</td>\n",
       "      <td>10</td>\n",
       "      <td>Twinings Of London</td>\n",
       "      <td>7</td>\n",
       "      <td>Twinings Of London Classics Lady Grey Tea - 20 Ct</td>\n",
       "      <td>9.64</td>\n",
       "      <td>70177154004</td>\n",
       "      <td>70177154004</td>\n",
       "      <td>8503 NW Military Hwy</td>\n",
       "      <td>San Antonio</td>\n",
       "      <td>10</td>\n",
       "      <td>TX</td>\n",
       "      <td>78231</td>\n",
       "    </tr>\n",
       "    <tr>\n",
       "      <th>2013-01-01</th>\n",
       "      <td>18</td>\n",
       "      <td>45.0</td>\n",
       "      <td>314073</td>\n",
       "      <td>3</td>\n",
       "      <td>Scotch</td>\n",
       "      <td>18</td>\n",
       "      <td>Scotch Removable Clear Mounting Squares - 35 Ct</td>\n",
       "      <td>4.39</td>\n",
       "      <td>21200725340</td>\n",
       "      <td>21200725340</td>\n",
       "      <td>2118 Fredericksburg Rdj</td>\n",
       "      <td>San Antonio</td>\n",
       "      <td>3</td>\n",
       "      <td>TX</td>\n",
       "      <td>78201</td>\n",
       "    </tr>\n",
       "    <tr>\n",
       "      <th>2013-01-01</th>\n",
       "      <td>19</td>\n",
       "      <td>34.0</td>\n",
       "      <td>332333</td>\n",
       "      <td>3</td>\n",
       "      <td>Careone</td>\n",
       "      <td>19</td>\n",
       "      <td>Careone Family Comb Set - 8 Ct</td>\n",
       "      <td>0.74</td>\n",
       "      <td>41520035646</td>\n",
       "      <td>41520035646</td>\n",
       "      <td>2118 Fredericksburg Rdj</td>\n",
       "      <td>San Antonio</td>\n",
       "      <td>3</td>\n",
       "      <td>TX</td>\n",
       "      <td>78201</td>\n",
       "    </tr>\n",
       "  </tbody>\n",
       "</table>\n",
       "</div>"
      ],
      "text/plain": [
       "            item  sale_amount  sale_id  store          item_brand  item_id  \\\n",
       "sale_date                                                                    \n",
       "2013-01-01     1         13.0        1      1            Riceland        1   \n",
       "2013-01-01    17         26.0   295813      3               Ducal       17   \n",
       "2013-01-01     7         32.0   125995     10  Twinings Of London        7   \n",
       "2013-01-01    18         45.0   314073      3              Scotch       18   \n",
       "2013-01-01    19         34.0   332333      3             Careone       19   \n",
       "\n",
       "                                                    item_name  item_price  \\\n",
       "sale_date                                                                   \n",
       "2013-01-01                     Riceland American Jazmine Rice        0.84   \n",
       "2013-01-01                            Ducal Refried Red Beans        1.16   \n",
       "2013-01-01  Twinings Of London Classics Lady Grey Tea - 20 Ct        9.64   \n",
       "2013-01-01    Scotch Removable Clear Mounting Squares - 35 Ct        4.39   \n",
       "2013-01-01                     Careone Family Comb Set - 8 Ct        0.74   \n",
       "\n",
       "             item_upc12   item_upc14            store_address   store_city  \\\n",
       "sale_date                                                                    \n",
       "2013-01-01  35200264013  35200264013   12125 Alamo Ranch Pkwy  San Antonio   \n",
       "2013-01-01  88313590791  88313590791  2118 Fredericksburg Rdj  San Antonio   \n",
       "2013-01-01  70177154004  70177154004     8503 NW Military Hwy  San Antonio   \n",
       "2013-01-01  21200725340  21200725340  2118 Fredericksburg Rdj  San Antonio   \n",
       "2013-01-01  41520035646  41520035646  2118 Fredericksburg Rdj  San Antonio   \n",
       "\n",
       "            store_id store_state  store_zipcode  \n",
       "sale_date                                        \n",
       "2013-01-01         1          TX          78253  \n",
       "2013-01-01         3          TX          78201  \n",
       "2013-01-01        10          TX          78231  \n",
       "2013-01-01         3          TX          78201  \n",
       "2013-01-01         3          TX          78201  "
      ]
     },
     "execution_count": 60,
     "metadata": {},
     "output_type": "execute_result"
    }
   ],
   "source": [
    "df.head()"
   ]
  },
  {
   "cell_type": "markdown",
   "id": "9a7e0acd",
   "metadata": {},
   "source": [
    "### Frequency of data \n",
    "- how much data do we have for each date?"
   ]
  },
  {
   "cell_type": "code",
   "execution_count": 61,
   "id": "ad4cd0c0",
   "metadata": {},
   "outputs": [
    {
     "data": {
      "text/plain": [
       "2013-01-01    500\n",
       "2016-05-11    500\n",
       "2016-05-09    500\n",
       "2016-05-08    500\n",
       "2016-05-07    500\n",
       "             ... \n",
       "2014-08-29    500\n",
       "2014-08-28    500\n",
       "2014-08-27    500\n",
       "2014-08-26    500\n",
       "2017-12-31    500\n",
       "Name: sale_date, Length: 1826, dtype: int64"
      ]
     },
     "execution_count": 61,
     "metadata": {},
     "output_type": "execute_result"
    }
   ],
   "source": [
    "df.index.value_counts()"
   ]
  },
  {
   "cell_type": "code",
   "execution_count": 62,
   "id": "0fa5ca19",
   "metadata": {},
   "outputs": [
    {
     "data": {
      "text/plain": [
       "500    1826\n",
       "Name: sale_date, dtype: int64"
      ]
     },
     "execution_count": 62,
     "metadata": {},
     "output_type": "execute_result"
    }
   ],
   "source": [
    "df.index.value_counts().value_counts()"
   ]
  },
  {
   "cell_type": "markdown",
   "id": "e3ceacef",
   "metadata": {},
   "source": [
    "### Check for gaps in time"
   ]
  },
  {
   "cell_type": "code",
   "execution_count": 63,
   "id": "81f7fb34",
   "metadata": {},
   "outputs": [
    {
     "data": {
      "text/plain": [
       "Timestamp('2013-01-01 00:00:00')"
      ]
     },
     "execution_count": 63,
     "metadata": {},
     "output_type": "execute_result"
    }
   ],
   "source": [
    "#earliest day\n",
    "df.index.min()"
   ]
  },
  {
   "cell_type": "code",
   "execution_count": 64,
   "id": "e6e8c70f",
   "metadata": {},
   "outputs": [
    {
     "data": {
      "text/plain": [
       "Timestamp('2017-12-31 00:00:00')"
      ]
     },
     "execution_count": 64,
     "metadata": {},
     "output_type": "execute_result"
    }
   ],
   "source": [
    "#latest day\n",
    "df.index.max()"
   ]
  },
  {
   "cell_type": "code",
   "execution_count": 65,
   "id": "b459b9ea",
   "metadata": {},
   "outputs": [
    {
     "data": {
      "text/plain": [
       "Timedelta('1826 days 00:00:00')"
      ]
     },
     "execution_count": 65,
     "metadata": {},
     "output_type": "execute_result"
    }
   ],
   "source": [
    "#difference between days plus one\n",
    "df.index.max() - df.index.min() + pd.Timedelta('1d')"
   ]
  },
  {
   "cell_type": "code",
   "execution_count": 66,
   "id": "96b86b72",
   "metadata": {},
   "outputs": [
    {
     "data": {
      "text/plain": [
       "1826"
      ]
     },
     "execution_count": 66,
     "metadata": {},
     "output_type": "execute_result"
    }
   ],
   "source": [
    "#see how many unique days we actually have\n",
    "df.index.nunique()"
   ]
  },
  {
   "cell_type": "code",
   "execution_count": 67,
   "id": "b1a17d6f",
   "metadata": {},
   "outputs": [],
   "source": [
    "#dropping days to show gaps in time\n",
    "df_test = df.drop(index=['2017-12-30','2014-01-02','2016-03-28'])"
   ]
  },
  {
   "cell_type": "code",
   "execution_count": 68,
   "id": "3f47ff45",
   "metadata": {},
   "outputs": [
    {
     "data": {
      "text/plain": [
       "1823"
      ]
     },
     "execution_count": 68,
     "metadata": {},
     "output_type": "execute_result"
    }
   ],
   "source": [
    "#see how many unique days we actually have\n",
    "df_test.index.nunique()"
   ]
  },
  {
   "cell_type": "code",
   "execution_count": 70,
   "id": "c233b374",
   "metadata": {},
   "outputs": [],
   "source": [
    "#establish all the expected dates in our range\n",
    "#pd.daterange()\n",
    "expected_range=pd.date_range(start=df_test.index.min(),end=df_test.index.max())"
   ]
  },
  {
   "cell_type": "code",
   "execution_count": 71,
   "id": "7cad27c1",
   "metadata": {},
   "outputs": [
    {
     "data": {
      "text/plain": [
       "DatetimeIndex(['2014-01-02', '2016-03-28', '2017-12-30'], dtype='datetime64[ns]', freq=None)"
      ]
     },
     "execution_count": 71,
     "metadata": {},
     "output_type": "execute_result"
    }
   ],
   "source": [
    "#find whats missing between dates\n",
    "#df.difference()\n",
    "expected_range.difference(df_test.index)"
   ]
  },
  {
   "cell_type": "markdown",
   "id": "f3596ca9",
   "metadata": {},
   "source": [
    "## Let's get to know our data a litte better"
   ]
  },
  {
   "cell_type": "markdown",
   "id": "ac00a3cf",
   "metadata": {},
   "source": [
    "Target variable: sale_amount"
   ]
  },
  {
   "cell_type": "markdown",
   "id": "138e700f",
   "metadata": {},
   "source": [
    "- understand what one row is & some of the important columns\n",
    "- does the time frame of our rows make sense?\n",
    "    - does it need to be more or less granular?\n",
    "- investigate the data behind the unique combinations of store & item"
   ]
  },
  {
   "cell_type": "markdown",
   "id": "c7fa39a4",
   "metadata": {},
   "source": [
    "### number of distinct stores? items? sales? sales_dates?"
   ]
  },
  {
   "cell_type": "code",
   "execution_count": 73,
   "id": "9313313b",
   "metadata": {
    "tags": []
   },
   "outputs": [
    {
     "data": {
      "text/html": [
       "<div>\n",
       "<style scoped>\n",
       "    .dataframe tbody tr th:only-of-type {\n",
       "        vertical-align: middle;\n",
       "    }\n",
       "\n",
       "    .dataframe tbody tr th {\n",
       "        vertical-align: top;\n",
       "    }\n",
       "\n",
       "    .dataframe thead th {\n",
       "        text-align: right;\n",
       "    }\n",
       "</style>\n",
       "<table border=\"1\" class=\"dataframe\">\n",
       "  <thead>\n",
       "    <tr style=\"text-align: right;\">\n",
       "      <th></th>\n",
       "      <th>item</th>\n",
       "      <th>sale_amount</th>\n",
       "      <th>sale_id</th>\n",
       "      <th>store</th>\n",
       "      <th>item_brand</th>\n",
       "      <th>item_id</th>\n",
       "      <th>item_name</th>\n",
       "      <th>item_price</th>\n",
       "      <th>item_upc12</th>\n",
       "      <th>item_upc14</th>\n",
       "      <th>store_address</th>\n",
       "      <th>store_city</th>\n",
       "      <th>store_id</th>\n",
       "      <th>store_state</th>\n",
       "      <th>store_zipcode</th>\n",
       "    </tr>\n",
       "    <tr>\n",
       "      <th>sale_date</th>\n",
       "      <th></th>\n",
       "      <th></th>\n",
       "      <th></th>\n",
       "      <th></th>\n",
       "      <th></th>\n",
       "      <th></th>\n",
       "      <th></th>\n",
       "      <th></th>\n",
       "      <th></th>\n",
       "      <th></th>\n",
       "      <th></th>\n",
       "      <th></th>\n",
       "      <th></th>\n",
       "      <th></th>\n",
       "      <th></th>\n",
       "    </tr>\n",
       "  </thead>\n",
       "  <tbody>\n",
       "    <tr>\n",
       "      <th>2013-01-01</th>\n",
       "      <td>1</td>\n",
       "      <td>13.0</td>\n",
       "      <td>1</td>\n",
       "      <td>1</td>\n",
       "      <td>Riceland</td>\n",
       "      <td>1</td>\n",
       "      <td>Riceland American Jazmine Rice</td>\n",
       "      <td>0.84</td>\n",
       "      <td>35200264013</td>\n",
       "      <td>35200264013</td>\n",
       "      <td>12125 Alamo Ranch Pkwy</td>\n",
       "      <td>San Antonio</td>\n",
       "      <td>1</td>\n",
       "      <td>TX</td>\n",
       "      <td>78253</td>\n",
       "    </tr>\n",
       "    <tr>\n",
       "      <th>2013-01-01</th>\n",
       "      <td>17</td>\n",
       "      <td>26.0</td>\n",
       "      <td>295813</td>\n",
       "      <td>3</td>\n",
       "      <td>Ducal</td>\n",
       "      <td>17</td>\n",
       "      <td>Ducal Refried Red Beans</td>\n",
       "      <td>1.16</td>\n",
       "      <td>88313590791</td>\n",
       "      <td>88313590791</td>\n",
       "      <td>2118 Fredericksburg Rdj</td>\n",
       "      <td>San Antonio</td>\n",
       "      <td>3</td>\n",
       "      <td>TX</td>\n",
       "      <td>78201</td>\n",
       "    </tr>\n",
       "    <tr>\n",
       "      <th>2013-01-01</th>\n",
       "      <td>7</td>\n",
       "      <td>32.0</td>\n",
       "      <td>125995</td>\n",
       "      <td>10</td>\n",
       "      <td>Twinings Of London</td>\n",
       "      <td>7</td>\n",
       "      <td>Twinings Of London Classics Lady Grey Tea - 20 Ct</td>\n",
       "      <td>9.64</td>\n",
       "      <td>70177154004</td>\n",
       "      <td>70177154004</td>\n",
       "      <td>8503 NW Military Hwy</td>\n",
       "      <td>San Antonio</td>\n",
       "      <td>10</td>\n",
       "      <td>TX</td>\n",
       "      <td>78231</td>\n",
       "    </tr>\n",
       "    <tr>\n",
       "      <th>2013-01-01</th>\n",
       "      <td>18</td>\n",
       "      <td>45.0</td>\n",
       "      <td>314073</td>\n",
       "      <td>3</td>\n",
       "      <td>Scotch</td>\n",
       "      <td>18</td>\n",
       "      <td>Scotch Removable Clear Mounting Squares - 35 Ct</td>\n",
       "      <td>4.39</td>\n",
       "      <td>21200725340</td>\n",
       "      <td>21200725340</td>\n",
       "      <td>2118 Fredericksburg Rdj</td>\n",
       "      <td>San Antonio</td>\n",
       "      <td>3</td>\n",
       "      <td>TX</td>\n",
       "      <td>78201</td>\n",
       "    </tr>\n",
       "    <tr>\n",
       "      <th>2013-01-01</th>\n",
       "      <td>19</td>\n",
       "      <td>34.0</td>\n",
       "      <td>332333</td>\n",
       "      <td>3</td>\n",
       "      <td>Careone</td>\n",
       "      <td>19</td>\n",
       "      <td>Careone Family Comb Set - 8 Ct</td>\n",
       "      <td>0.74</td>\n",
       "      <td>41520035646</td>\n",
       "      <td>41520035646</td>\n",
       "      <td>2118 Fredericksburg Rdj</td>\n",
       "      <td>San Antonio</td>\n",
       "      <td>3</td>\n",
       "      <td>TX</td>\n",
       "      <td>78201</td>\n",
       "    </tr>\n",
       "  </tbody>\n",
       "</table>\n",
       "</div>"
      ],
      "text/plain": [
       "            item  sale_amount  sale_id  store          item_brand  item_id  \\\n",
       "sale_date                                                                    \n",
       "2013-01-01     1         13.0        1      1            Riceland        1   \n",
       "2013-01-01    17         26.0   295813      3               Ducal       17   \n",
       "2013-01-01     7         32.0   125995     10  Twinings Of London        7   \n",
       "2013-01-01    18         45.0   314073      3              Scotch       18   \n",
       "2013-01-01    19         34.0   332333      3             Careone       19   \n",
       "\n",
       "                                                    item_name  item_price  \\\n",
       "sale_date                                                                   \n",
       "2013-01-01                     Riceland American Jazmine Rice        0.84   \n",
       "2013-01-01                            Ducal Refried Red Beans        1.16   \n",
       "2013-01-01  Twinings Of London Classics Lady Grey Tea - 20 Ct        9.64   \n",
       "2013-01-01    Scotch Removable Clear Mounting Squares - 35 Ct        4.39   \n",
       "2013-01-01                     Careone Family Comb Set - 8 Ct        0.74   \n",
       "\n",
       "             item_upc12   item_upc14            store_address   store_city  \\\n",
       "sale_date                                                                    \n",
       "2013-01-01  35200264013  35200264013   12125 Alamo Ranch Pkwy  San Antonio   \n",
       "2013-01-01  88313590791  88313590791  2118 Fredericksburg Rdj  San Antonio   \n",
       "2013-01-01  70177154004  70177154004     8503 NW Military Hwy  San Antonio   \n",
       "2013-01-01  21200725340  21200725340  2118 Fredericksburg Rdj  San Antonio   \n",
       "2013-01-01  41520035646  41520035646  2118 Fredericksburg Rdj  San Antonio   \n",
       "\n",
       "            store_id store_state  store_zipcode  \n",
       "sale_date                                        \n",
       "2013-01-01         1          TX          78253  \n",
       "2013-01-01         3          TX          78201  \n",
       "2013-01-01        10          TX          78231  \n",
       "2013-01-01         3          TX          78201  \n",
       "2013-01-01         3          TX          78201  "
      ]
     },
     "execution_count": 73,
     "metadata": {},
     "output_type": "execute_result"
    }
   ],
   "source": [
    "df.head()"
   ]
  },
  {
   "cell_type": "code",
   "execution_count": 74,
   "id": "6403de59-76d0-43e6-a3cd-95f258756f04",
   "metadata": {},
   "outputs": [
    {
     "data": {
      "text/plain": [
       "10"
      ]
     },
     "execution_count": 74,
     "metadata": {},
     "output_type": "execute_result"
    }
   ],
   "source": [
    "df.store.nunique()"
   ]
  },
  {
   "cell_type": "code",
   "execution_count": 75,
   "id": "658575bb-c4d9-40ca-a796-64c7f84a4d5d",
   "metadata": {},
   "outputs": [
    {
     "data": {
      "text/plain": [
       "10"
      ]
     },
     "execution_count": 75,
     "metadata": {},
     "output_type": "execute_result"
    }
   ],
   "source": [
    "df.store_id.nunique()"
   ]
  },
  {
   "cell_type": "code",
   "execution_count": 76,
   "id": "9b49b2af-b2b6-4299-b544-76fdf694c95d",
   "metadata": {},
   "outputs": [
    {
     "data": {
      "text/plain": [
       "50"
      ]
     },
     "execution_count": 76,
     "metadata": {},
     "output_type": "execute_result"
    }
   ],
   "source": [
    "df.item.nunique()"
   ]
  },
  {
   "cell_type": "code",
   "execution_count": 77,
   "id": "a2165add-6247-41a0-ab77-edc2ea00a620",
   "metadata": {},
   "outputs": [
    {
     "data": {
      "text/plain": [
       "50"
      ]
     },
     "execution_count": 77,
     "metadata": {},
     "output_type": "execute_result"
    }
   ],
   "source": [
    "df.item_id.nunique()"
   ]
  },
  {
   "cell_type": "code",
   "execution_count": 78,
   "id": "d47f89e7-3a17-4ff3-946e-7fe348503336",
   "metadata": {},
   "outputs": [
    {
     "data": {
      "text/plain": [
       "913000"
      ]
     },
     "execution_count": 78,
     "metadata": {},
     "output_type": "execute_result"
    }
   ],
   "source": [
    "df.sale_id.nunique()"
   ]
  },
  {
   "cell_type": "code",
   "execution_count": 79,
   "id": "4282f3ba-680e-47a2-9e61-5d0ed9e89194",
   "metadata": {},
   "outputs": [
    {
     "data": {
      "text/plain": [
       "1826"
      ]
     },
     "execution_count": 79,
     "metadata": {},
     "output_type": "execute_result"
    }
   ],
   "source": [
    "df.index.nunique()"
   ]
  },
  {
   "cell_type": "markdown",
   "id": "05e7b3c4",
   "metadata": {},
   "source": [
    "### Is each store equally represented in this dataset?"
   ]
  },
  {
   "cell_type": "code",
   "execution_count": 80,
   "id": "ae2c757e",
   "metadata": {},
   "outputs": [
    {
     "data": {
      "text/plain": [
       "1     91300\n",
       "3     91300\n",
       "10    91300\n",
       "9     91300\n",
       "2     91300\n",
       "4     91300\n",
       "6     91300\n",
       "8     91300\n",
       "7     91300\n",
       "5     91300\n",
       "Name: store, dtype: int64"
      ]
     },
     "execution_count": 80,
     "metadata": {},
     "output_type": "execute_result"
    }
   ],
   "source": [
    "df.store.value_counts()"
   ]
  },
  {
   "cell_type": "code",
   "execution_count": null,
   "id": "2b33e6b6-d82c-4c08-9670-30cfddc1ae49",
   "metadata": {},
   "outputs": [],
   "source": [
    "df.store.value_counts()"
   ]
  },
  {
   "cell_type": "code",
   "execution_count": null,
   "id": "15d4294c-8a25-463a-a7ba-fe235ebe5156",
   "metadata": {},
   "outputs": [],
   "source": []
  },
  {
   "cell_type": "markdown",
   "id": "71850c3c",
   "metadata": {},
   "source": [
    "### Is each item equally represented in this dataset?"
   ]
  },
  {
   "cell_type": "code",
   "execution_count": 81,
   "id": "85ee0d53",
   "metadata": {},
   "outputs": [
    {
     "data": {
      "text/plain": [
       "1     18260\n",
       "13    18260\n",
       "16    18260\n",
       "36    18260\n",
       "15    18260\n",
       "14    18260\n",
       "44    18260\n",
       "45    18260\n",
       "46    18260\n",
       "47    18260\n",
       "48    18260\n",
       "49    18260\n",
       "12    18260\n",
       "17    18260\n",
       "11    18260\n",
       "8     18260\n",
       "9     18260\n",
       "10    18260\n",
       "37    18260\n",
       "38    18260\n",
       "40    18260\n",
       "39    18260\n",
       "41    18260\n",
       "42    18260\n",
       "50    18260\n",
       "35    18260\n",
       "34    18260\n",
       "33    18260\n",
       "7     18260\n",
       "18    18260\n",
       "19    18260\n",
       "20    18260\n",
       "6     18260\n",
       "21    18260\n",
       "22    18260\n",
       "5     18260\n",
       "23    18260\n",
       "24    18260\n",
       "25    18260\n",
       "4     18260\n",
       "26    18260\n",
       "27    18260\n",
       "28    18260\n",
       "3     18260\n",
       "29    18260\n",
       "30    18260\n",
       "2     18260\n",
       "31    18260\n",
       "32    18260\n",
       "43    18260\n",
       "Name: item, dtype: int64"
      ]
     },
     "execution_count": 81,
     "metadata": {},
     "output_type": "execute_result"
    }
   ],
   "source": [
    "df.item.value_counts()"
   ]
  },
  {
   "cell_type": "markdown",
   "id": "8d134ab8",
   "metadata": {},
   "source": [
    "### Plot target variable over time"
   ]
  },
  {
   "cell_type": "markdown",
   "id": "7eb5fe8b-b43e-471d-a2db-477853be09ea",
   "metadata": {},
   "source": [
    "#### target variable: sale amount"
   ]
  },
  {
   "cell_type": "code",
   "execution_count": 82,
   "id": "13c5a9df",
   "metadata": {},
   "outputs": [
    {
     "data": {
      "text/html": [
       "<div>\n",
       "<style scoped>\n",
       "    .dataframe tbody tr th:only-of-type {\n",
       "        vertical-align: middle;\n",
       "    }\n",
       "\n",
       "    .dataframe tbody tr th {\n",
       "        vertical-align: top;\n",
       "    }\n",
       "\n",
       "    .dataframe thead th {\n",
       "        text-align: right;\n",
       "    }\n",
       "</style>\n",
       "<table border=\"1\" class=\"dataframe\">\n",
       "  <thead>\n",
       "    <tr style=\"text-align: right;\">\n",
       "      <th></th>\n",
       "      <th>item</th>\n",
       "      <th>sale_amount</th>\n",
       "      <th>sale_id</th>\n",
       "      <th>store</th>\n",
       "      <th>item_brand</th>\n",
       "      <th>item_id</th>\n",
       "      <th>item_name</th>\n",
       "      <th>item_price</th>\n",
       "      <th>item_upc12</th>\n",
       "      <th>item_upc14</th>\n",
       "      <th>store_address</th>\n",
       "      <th>store_city</th>\n",
       "      <th>store_id</th>\n",
       "      <th>store_state</th>\n",
       "      <th>store_zipcode</th>\n",
       "    </tr>\n",
       "    <tr>\n",
       "      <th>sale_date</th>\n",
       "      <th></th>\n",
       "      <th></th>\n",
       "      <th></th>\n",
       "      <th></th>\n",
       "      <th></th>\n",
       "      <th></th>\n",
       "      <th></th>\n",
       "      <th></th>\n",
       "      <th></th>\n",
       "      <th></th>\n",
       "      <th></th>\n",
       "      <th></th>\n",
       "      <th></th>\n",
       "      <th></th>\n",
       "      <th></th>\n",
       "    </tr>\n",
       "  </thead>\n",
       "  <tbody>\n",
       "    <tr>\n",
       "      <th>2013-01-01</th>\n",
       "      <td>1</td>\n",
       "      <td>13.0</td>\n",
       "      <td>1</td>\n",
       "      <td>1</td>\n",
       "      <td>Riceland</td>\n",
       "      <td>1</td>\n",
       "      <td>Riceland American Jazmine Rice</td>\n",
       "      <td>0.84</td>\n",
       "      <td>35200264013</td>\n",
       "      <td>35200264013</td>\n",
       "      <td>12125 Alamo Ranch Pkwy</td>\n",
       "      <td>San Antonio</td>\n",
       "      <td>1</td>\n",
       "      <td>TX</td>\n",
       "      <td>78253</td>\n",
       "    </tr>\n",
       "    <tr>\n",
       "      <th>2013-01-01</th>\n",
       "      <td>17</td>\n",
       "      <td>26.0</td>\n",
       "      <td>295813</td>\n",
       "      <td>3</td>\n",
       "      <td>Ducal</td>\n",
       "      <td>17</td>\n",
       "      <td>Ducal Refried Red Beans</td>\n",
       "      <td>1.16</td>\n",
       "      <td>88313590791</td>\n",
       "      <td>88313590791</td>\n",
       "      <td>2118 Fredericksburg Rdj</td>\n",
       "      <td>San Antonio</td>\n",
       "      <td>3</td>\n",
       "      <td>TX</td>\n",
       "      <td>78201</td>\n",
       "    </tr>\n",
       "    <tr>\n",
       "      <th>2013-01-01</th>\n",
       "      <td>7</td>\n",
       "      <td>32.0</td>\n",
       "      <td>125995</td>\n",
       "      <td>10</td>\n",
       "      <td>Twinings Of London</td>\n",
       "      <td>7</td>\n",
       "      <td>Twinings Of London Classics Lady Grey Tea - 20 Ct</td>\n",
       "      <td>9.64</td>\n",
       "      <td>70177154004</td>\n",
       "      <td>70177154004</td>\n",
       "      <td>8503 NW Military Hwy</td>\n",
       "      <td>San Antonio</td>\n",
       "      <td>10</td>\n",
       "      <td>TX</td>\n",
       "      <td>78231</td>\n",
       "    </tr>\n",
       "    <tr>\n",
       "      <th>2013-01-01</th>\n",
       "      <td>18</td>\n",
       "      <td>45.0</td>\n",
       "      <td>314073</td>\n",
       "      <td>3</td>\n",
       "      <td>Scotch</td>\n",
       "      <td>18</td>\n",
       "      <td>Scotch Removable Clear Mounting Squares - 35 Ct</td>\n",
       "      <td>4.39</td>\n",
       "      <td>21200725340</td>\n",
       "      <td>21200725340</td>\n",
       "      <td>2118 Fredericksburg Rdj</td>\n",
       "      <td>San Antonio</td>\n",
       "      <td>3</td>\n",
       "      <td>TX</td>\n",
       "      <td>78201</td>\n",
       "    </tr>\n",
       "    <tr>\n",
       "      <th>2013-01-01</th>\n",
       "      <td>19</td>\n",
       "      <td>34.0</td>\n",
       "      <td>332333</td>\n",
       "      <td>3</td>\n",
       "      <td>Careone</td>\n",
       "      <td>19</td>\n",
       "      <td>Careone Family Comb Set - 8 Ct</td>\n",
       "      <td>0.74</td>\n",
       "      <td>41520035646</td>\n",
       "      <td>41520035646</td>\n",
       "      <td>2118 Fredericksburg Rdj</td>\n",
       "      <td>San Antonio</td>\n",
       "      <td>3</td>\n",
       "      <td>TX</td>\n",
       "      <td>78201</td>\n",
       "    </tr>\n",
       "  </tbody>\n",
       "</table>\n",
       "</div>"
      ],
      "text/plain": [
       "            item  sale_amount  sale_id  store          item_brand  item_id  \\\n",
       "sale_date                                                                    \n",
       "2013-01-01     1         13.0        1      1            Riceland        1   \n",
       "2013-01-01    17         26.0   295813      3               Ducal       17   \n",
       "2013-01-01     7         32.0   125995     10  Twinings Of London        7   \n",
       "2013-01-01    18         45.0   314073      3              Scotch       18   \n",
       "2013-01-01    19         34.0   332333      3             Careone       19   \n",
       "\n",
       "                                                    item_name  item_price  \\\n",
       "sale_date                                                                   \n",
       "2013-01-01                     Riceland American Jazmine Rice        0.84   \n",
       "2013-01-01                            Ducal Refried Red Beans        1.16   \n",
       "2013-01-01  Twinings Of London Classics Lady Grey Tea - 20 Ct        9.64   \n",
       "2013-01-01    Scotch Removable Clear Mounting Squares - 35 Ct        4.39   \n",
       "2013-01-01                     Careone Family Comb Set - 8 Ct        0.74   \n",
       "\n",
       "             item_upc12   item_upc14            store_address   store_city  \\\n",
       "sale_date                                                                    \n",
       "2013-01-01  35200264013  35200264013   12125 Alamo Ranch Pkwy  San Antonio   \n",
       "2013-01-01  88313590791  88313590791  2118 Fredericksburg Rdj  San Antonio   \n",
       "2013-01-01  70177154004  70177154004     8503 NW Military Hwy  San Antonio   \n",
       "2013-01-01  21200725340  21200725340  2118 Fredericksburg Rdj  San Antonio   \n",
       "2013-01-01  41520035646  41520035646  2118 Fredericksburg Rdj  San Antonio   \n",
       "\n",
       "            store_id store_state  store_zipcode  \n",
       "sale_date                                        \n",
       "2013-01-01         1          TX          78253  \n",
       "2013-01-01         3          TX          78201  \n",
       "2013-01-01        10          TX          78231  \n",
       "2013-01-01         3          TX          78201  \n",
       "2013-01-01         3          TX          78201  "
      ]
     },
     "execution_count": 82,
     "metadata": {},
     "output_type": "execute_result"
    }
   ],
   "source": [
    "df.head()"
   ]
  },
  {
   "cell_type": "code",
   "execution_count": null,
   "id": "502ef707",
   "metadata": {},
   "outputs": [],
   "source": []
  },
  {
   "cell_type": "code",
   "execution_count": 89,
   "id": "7f539f8b",
   "metadata": {},
   "outputs": [
    {
     "data": {
      "image/png": "[encoded data removed]",
      "text/plain": [
       "<Figure size 640x480 with 1 Axes>"
      ]
     },
     "metadata": {},
     "output_type": "display_data"
    }
   ],
   "source": [
    "# plt.figure(figsize=(10,6))\n",
    "df.resample('D').mean().sale_amount.plot(label='Daily')\n",
    "df.resample('W').mean().sale_amount.plot(label='Weekly')\n",
    "df.resample('M').mean().sale_amount.plot(label='Monthly')\n",
    "df.resample('Y').mean().sale_amount.plot(label='Yearly')\n",
    "plt.title('sale amount over time')\n",
    "plt.legend()\n",
    "plt.show()"
   ]
  },
  {
   "cell_type": "markdown",
   "id": "31a38bc4",
   "metadata": {},
   "source": [
    "### what's the first sale date for each store/item combination?"
   ]
  },
  {
   "cell_type": "code",
   "execution_count": 94,
   "id": "307f095d-56b1-40bd-a548-527ff9d66df5",
   "metadata": {},
   "outputs": [
    {
     "data": {
      "text/plain": [
       "store  item\n",
       "1      1      2013-01-01\n",
       "       2      2013-01-01\n",
       "       3      2013-01-01\n",
       "       4      2013-01-01\n",
       "       5      2013-01-01\n",
       "                 ...    \n",
       "10     46     2013-01-01\n",
       "       47     2013-01-01\n",
       "       48     2013-01-01\n",
       "       49     2013-01-01\n",
       "       50     2013-01-01\n",
       "Name: sale_date, Length: 500, dtype: datetime64[ns]"
      ]
     },
     "execution_count": 94,
     "metadata": {},
     "output_type": "execute_result"
    }
   ],
   "source": [
    "df.reset_index().groupby(['store','item']).sale_date.min()"
   ]
  },
  {
   "cell_type": "code",
   "execution_count": 96,
   "id": "f6f4022d",
   "metadata": {},
   "outputs": [
    {
     "data": {
      "text/plain": [
       "2013-01-01    500\n",
       "Name: sale_date, dtype: int64"
      ]
     },
     "execution_count": 96,
     "metadata": {},
     "output_type": "execute_result"
    }
   ],
   "source": [
    "df.reset_index().groupby(['store','item']).sale_date.min().value_counts()"
   ]
  },
  {
   "cell_type": "code",
   "execution_count": null,
   "id": "c7c0f8f1",
   "metadata": {},
   "outputs": [],
   "source": []
  },
  {
   "cell_type": "markdown",
   "id": "b4109768",
   "metadata": {},
   "source": [
    "### what's the last sale date for each store/item combination?"
   ]
  },
  {
   "cell_type": "code",
   "execution_count": 97,
   "id": "59f6fb8a",
   "metadata": {},
   "outputs": [
    {
     "data": {
      "text/plain": [
       "store  item\n",
       "1      1      2017-12-31\n",
       "       2      2017-12-31\n",
       "       3      2017-12-31\n",
       "       4      2017-12-31\n",
       "       5      2017-12-31\n",
       "                 ...    \n",
       "10     46     2017-12-31\n",
       "       47     2017-12-31\n",
       "       48     2017-12-31\n",
       "       49     2017-12-31\n",
       "       50     2017-12-31\n",
       "Name: sale_date, Length: 500, dtype: datetime64[ns]"
      ]
     },
     "execution_count": 97,
     "metadata": {},
     "output_type": "execute_result"
    }
   ],
   "source": [
    "df.reset_index().groupby(['store','item']).sale_date.max()"
   ]
  },
  {
   "cell_type": "code",
   "execution_count": 98,
   "id": "9c02cd2d",
   "metadata": {},
   "outputs": [
    {
     "data": {
      "text/plain": [
       "2017-12-31    500\n",
       "Name: sale_date, dtype: int64"
      ]
     },
     "execution_count": 98,
     "metadata": {},
     "output_type": "execute_result"
    }
   ],
   "source": [
    "df.reset_index().groupby(['store','item']).sale_date.max().value_counts()"
   ]
  },
  {
   "cell_type": "markdown",
   "id": "f02fdcdf",
   "metadata": {},
   "source": [
    "### how many different days were things sold for each store/item combination?"
   ]
  },
  {
   "cell_type": "code",
   "execution_count": 99,
   "id": "aeb25b1d",
   "metadata": {},
   "outputs": [
    {
     "data": {
      "text/plain": [
       "store  item\n",
       "1      1       1826\n",
       "       2       1826\n",
       "       3       1826\n",
       "       4       1826\n",
       "       5       1826\n",
       "               ... \n",
       "10     46      1826\n",
       "       47      1826\n",
       "       48      1826\n",
       "       49      1826\n",
       "       50      1826\n",
       "Name: sale_date, Length: 500, dtype: int64"
      ]
     },
     "execution_count": 99,
     "metadata": {},
     "output_type": "execute_result"
    }
   ],
   "source": [
    "df.reset_index().groupby(['store','item']).sale_date.count()"
   ]
  },
  {
   "cell_type": "code",
   "execution_count": 101,
   "id": "d4643e8f",
   "metadata": {},
   "outputs": [
    {
     "data": {
      "text/plain": [
       "1826    500\n",
       "Name: sale_date, dtype: int64"
      ]
     },
     "execution_count": 101,
     "metadata": {},
     "output_type": "execute_result"
    }
   ],
   "source": [
    "df.reset_index().groupby(['store','item']).sale_date.count().value_counts()"
   ]
  },
  {
   "cell_type": "markdown",
   "id": "80b23404",
   "metadata": {},
   "source": [
    "## Data Splitting\n",
    "Splitting time series data into train, test, and validate sets is a little trickier than with previous data we have looked at. Because the data points have an order to them, we cannot simply assign each point randomly to train, validate, or test.\n",
    "\n",
    "Ideally all splits should contain one season's worth of data. There are several methods we can use to split our time series data:\n",
    "\n",
    "- Human-based: use, for example, the last year in the dataset as test split\n",
    "- Percentage based: use the last 20% as test\n",
    "- Cross Validate: break data up into slices and use successive slices as train and test repeatedly (sklearn.model_selection.TimeSeriesSplit)\n",
    "\n",
    "We'll explore data splitting in more depth in the next lesson.\n",
    "\n"
   ]
  },
  {
   "cell_type": "code",
   "execution_count": null,
   "id": "33421d87",
   "metadata": {},
   "outputs": [],
   "source": []
  }
 ],
 "metadata": {
  "kernelspec": {
   "display_name": "Python 3 (ipykernel)",
   "language": "python",
   "name": "python3"
  },
  "language_info": {
   "codemirror_mode": {
    "name": "ipython",
    "version": 3
   },
   "file_extension": ".py",
   "mimetype": "text/x-python",
   "name": "python",
   "nbconvert_exporter": "python",
   "pygments_lexer": "ipython3",
   "version": "3.9.13"
  },
  "toc": {
   "base_numbering": 1,
   "nav_menu": {},
   "number_sections": false,
   "sideBar": true,
   "skip_h1_title": true,
   "title_cell": "Table of Contents",
   "title_sidebar": "Contents",
   "toc_cell": false,
   "toc_position": {},
   "toc_section_display": true,
   "toc_window_display": false
  }
 },
 "nbformat": 4,
 "nbformat_minor": 5
}
